{
 "cells": [
  {
   "cell_type": "code",
   "execution_count": 50,
   "metadata": {},
   "outputs": [],
   "source": [
    "import numpy as np\n",
    "import pandas as pd\n",
    "from scipy.stats import t, ttest_1samp, ttest_rel, ttest_ind, levene"
   ]
  },
  {
   "cell_type": "markdown",
   "metadata": {},
   "source": [
    "## 예시 12.9"
   ]
  },
  {
   "cell_type": "code",
   "execution_count": 33,
   "metadata": {},
   "outputs": [
    {
     "name": "stdout",
     "output_type": "stream",
     "text": [
      "mean: 46.214285714285715\n",
      "std: 6.608204547903975\n",
      "N: 28\n"
     ]
    }
   ],
   "source": [
    "score = np.array([58, 48, 48, 41, 34, 43, 38, 53, 41, 60, \n",
    "                  55, 44, 43, 49, 47, 33, 47, 40, 46, 53, \n",
    "                  40, 45, 39, 47, 50, 53, 46, 53])\n",
    "\n",
    "# H0\n",
    "mu = 20\n",
    "\n",
    "# sample\n",
    "mean = np.mean(score)\n",
    "sd = np.std(score)\n",
    "sample_size = len(score)\n",
    "standard_error = sd / sample_size ** 0.5\n",
    "\n",
    "print(\"mean:\", mean)\n",
    "print(\"std:\", sd)\n",
    "print(\"N:\", sample_size)"
   ]
  },
  {
   "cell_type": "code",
   "execution_count": 17,
   "metadata": {},
   "outputs": [
    {
     "name": "stdout",
     "output_type": "stream",
     "text": [
      "t-statistic: 20.61277359627351\n",
      "t_obs: 20.991021175091213\n",
      "p-value: 0.00000000000000000473\n"
     ]
    }
   ],
   "source": [
    "t_stat, p_value = ttest_1samp(score, mu)\n",
    "t_obs = (mean - mu) / standard_error\n",
    "print(\"t-statistic:\", t_stat)\n",
    "print(\"t_obs:\", t_obs)\n",
    "print(\"p-value:\", format(p_value, '.20f'))"
   ]
  },
  {
   "cell_type": "code",
   "execution_count": 12,
   "metadata": {},
   "outputs": [],
   "source": [
    "confidence_level = 0.95\n",
    "degrees_of_freedom = sample_size - 1\n",
    "alpha = 1 - confidence_level\n",
    "t_critical = t.ppf(1 - alpha / 2, degrees_of_freedom)"
   ]
  },
  {
   "cell_type": "code",
   "execution_count": 22,
   "metadata": {},
   "outputs": [
    {
     "name": "stdout",
     "output_type": "stream",
     "text": [
      "lower bound: 43.65189149117232\n",
      "upper bound: 48.77667993739911\n",
      "confidence interval: 43.65189149117232 <= mu <= 48.77667993739911\n"
     ]
    }
   ],
   "source": [
    "lower_bound, upper_bound = t.interval(confidence_level, degrees_of_freedom, \n",
    "                                 mean, standard_error)\n",
    "CI_lower = mean - t_critical * standard_error\n",
    "CI_upper = mean + t_critical * standard_error\n",
    "print(\"lower bound:\", lower_bound)\n",
    "print(\"upper bound:\", upper_bound)\n",
    "print(\"confidence interval:\", CI_lower, \"<= mu <=\", CI_upper)"
   ]
  },
  {
   "cell_type": "code",
   "execution_count": 23,
   "metadata": {},
   "outputs": [
    {
     "name": "stdout",
     "output_type": "stream",
     "text": [
      "cohen's d: 3.96693012818444\n"
     ]
    }
   ],
   "source": [
    "effect_size = (mean - mu) / sd\n",
    "print(\"cohen's d:\", effect_size)"
   ]
  },
  {
   "cell_type": "markdown",
   "metadata": {},
   "source": [
    "## 예시 13.2"
   ]
  },
  {
   "cell_type": "code",
   "execution_count": 14,
   "metadata": {},
   "outputs": [],
   "source": [
    "sample_before = np.array([83.8, 83.3, 86.0, 82.5, 86.7, \n",
    "                          79.6, 76.9, 94.2, 73.4, 80.5, \n",
    "                          81.6, 82.1, 77.6, 83.5, 89.9, \n",
    "                          86.0, 87.3])\n",
    "sample_after = np.array([95.2, 94.3, 91.5, 91.9, 100.3, \n",
    "                         76.7, 76.8, 101.6, 94.9, 75.2, \n",
    "                         77.8, 95.5, 90.7, 92.5, 93.8, \n",
    "                         91.7, 98.0])"
   ]
  },
  {
   "cell_type": "code",
   "execution_count": 39,
   "metadata": {},
   "outputs": [
    {
     "name": "stdout",
     "output_type": "stream",
     "text": [
      "    before  after  difference\n",
      "0     83.8   95.2        11.4\n",
      "1     83.3   94.3        11.0\n",
      "2     86.0   91.5         5.5\n",
      "3     82.5   91.9         9.4\n",
      "4     86.7  100.3        13.6\n",
      "5     79.6   76.7        -2.9\n",
      "6     76.9   76.8        -0.1\n",
      "7     94.2  101.6         7.4\n",
      "8     73.4   94.9        21.5\n",
      "9     80.5   75.2        -5.3\n",
      "10    81.6   77.8        -3.8\n",
      "11    82.1   95.5        13.4\n",
      "12    77.6   90.7        13.1\n",
      "13    83.5   92.5         9.0\n",
      "14    89.9   93.8         3.9\n",
      "15    86.0   91.7         5.7\n",
      "16    87.3   98.0        10.7\n"
     ]
    }
   ],
   "source": [
    "sample_data = pd.DataFrame()\n",
    "sample_data['before'] = sample_before\n",
    "sample_data['after'] = sample_after\n",
    "sample_data['difference'] = sample_data['after'] - sample_data['before']\n",
    "print(sample_data)"
   ]
  },
  {
   "cell_type": "code",
   "execution_count": 40,
   "metadata": {},
   "outputs": [
    {
     "name": "stdout",
     "output_type": "stream",
     "text": [
      "mean difference: 7.264705882352942\n",
      "std difference: 7.1574210767977196\n",
      "N: 17\n"
     ]
    }
   ],
   "source": [
    "mean_difference = np.mean(sample_data['difference'])\n",
    "std_difference = np.std(sample_data['difference'], ddof=1)\n",
    "n = len(sample_data['difference'])\n",
    "std_error = std_difference / np.sqrt(n)\n",
    "\n",
    "print(\"mean difference:\", mean_difference)\n",
    "print(\"std difference:\", std_difference)\n",
    "print(\"N:\", n)"
   ]
  },
  {
   "cell_type": "code",
   "execution_count": 41,
   "metadata": {},
   "outputs": [
    {
     "name": "stdout",
     "output_type": "stream",
     "text": [
      "t-statistic: 4.184908135290033\n",
      "t-obs: 4.1849081352900335\n",
      "p-value: 0.0007002531056005393\n"
     ]
    }
   ],
   "source": [
    "t_d_stat, p_value_2 = ttest_rel(sample_data['after'], sample_data['before'])\n",
    "t_d_obs = mean_difference / std_error\n",
    "print(\"t-statistic:\", t_d_stat)\n",
    "print(\"t-obs:\", t_d_obs)\n",
    "print(\"p-value:\", p_value_2)"
   ]
  },
  {
   "cell_type": "code",
   "execution_count": 42,
   "metadata": {},
   "outputs": [
    {
     "name": "stdout",
     "output_type": "stream",
     "text": [
      "Confidence interval: 3.5846995358779723 10.944712228827912\n"
     ]
    }
   ],
   "source": [
    "dof = n - 1\n",
    "t_d_critical = t.ppf(1 - alpha / 2, dof)\n",
    "\n",
    "lower_interval = mean_difference - t_d_critical * std_error\n",
    "upper_interval = mean_difference + t_d_critical * std_error\n",
    "\n",
    "print(\"Confidence interval:\", lower_interval, upper_interval)"
   ]
  },
  {
   "cell_type": "code",
   "execution_count": 43,
   "metadata": {},
   "outputs": [
    {
     "name": "stdout",
     "output_type": "stream",
     "text": [
      "Effect size (Cohen's d): 1.014989310312203\n"
     ]
    }
   ],
   "source": [
    "effect_size2 = mean_difference / std_difference\n",
    "print(\"Effect size (Cohen's d):\", effect_size2)"
   ]
  },
  {
   "cell_type": "markdown",
   "metadata": {},
   "source": [
    "## 예시 14.10"
   ]
  },
  {
   "cell_type": "code",
   "execution_count": 44,
   "metadata": {},
   "outputs": [],
   "source": [
    "sample1 = np.array([0.15, -1.07, -0.81, 0.42, -1.06, \n",
    "                    -0.42, -1.44, 0.83, 0.39, 0.66, \n",
    "                    0.76, -0.80, -0.84, -1.02, -0.03, \n",
    "                    0.03, -0.53, -0.71, 0.11, -0.29, \n",
    "                    0.00])\n",
    "sample2 = np.array([0.47, 1.48, -0.99, -0.22, -1.34, \n",
    "                    1.17, 0.82, 0.17, 0.69, -0.13, \n",
    "                    1.62, 0.51, -1.00, 0.98, -2.02, \n",
    "                    0.66, 0.23, 0.64, 1.19, 0.66])"
   ]
  },
  {
   "cell_type": "code",
   "execution_count": 54,
   "metadata": {},
   "outputs": [
    {
     "name": "stdout",
     "output_type": "stream",
     "text": [
      "mean1: -0.27\n",
      "std1: 0.6534086448332752\n",
      "variance1: 0.4269428571428572\n",
      "N1: 21\n"
     ]
    }
   ],
   "source": [
    "mean_sample1 = np.mean(sample1)\n",
    "std_sample1 = np.std(sample1)\n",
    "n1 = len(sample1)\n",
    "\n",
    "print(\"mean1:\", mean_sample1)\n",
    "print(\"std1:\", std_sample1)\n",
    "print(\"variance1:\", std_sample1**2)\n",
    "print(\"N1:\", n1)"
   ]
  },
  {
   "cell_type": "code",
   "execution_count": 53,
   "metadata": {},
   "outputs": [
    {
     "name": "stdout",
     "output_type": "stream",
     "text": [
      "mean2: 0.27949999999999997\n",
      "std2: 0.9463428290001462\n",
      "variance2: 0.89556475\n",
      "N2: 20\n"
     ]
    }
   ],
   "source": [
    "mean_sample2 = np.mean(sample2)\n",
    "std_sample2 = np.std(sample2)\n",
    "n2 = len(sample2)\n",
    "\n",
    "print(\"mean2:\", mean_sample2)\n",
    "print(\"std2:\", std_sample2)\n",
    "print(\"variance2:\", std_sample2**2)\n",
    "print(\"N2:\", n2)"
   ]
  },
  {
   "cell_type": "code",
   "execution_count": 51,
   "metadata": {},
   "outputs": [
    {
     "name": "stdout",
     "output_type": "stream",
     "text": [
      "F statistic: 0.6650078115606063\n",
      "p-value: 0.419750139138206\n"
     ]
    }
   ],
   "source": [
    "f_statistic, p_f = levene(sample1, sample2)\n",
    "print(\"F statistic:\", f_statistic)\n",
    "print(\"p-value:\", p_f)"
   ]
  },
  {
   "cell_type": "code",
   "execution_count": 59,
   "metadata": {},
   "outputs": [
    {
     "name": "stdout",
     "output_type": "stream",
     "text": [
      "pooled std: 0.8094725632077228\n"
     ]
    }
   ],
   "source": [
    "pooled_std = np.sqrt(((n1 - 1) * std_sample1**2 + (n2 - 1) * std_sample2**2) / (n1 + n2 - 2))\n",
    "standard_error3 = pooled_std * np.sqrt(1/n1 + 1/n2)\n",
    "print(\"pooled std:\", pooled_std)"
   ]
  },
  {
   "cell_type": "code",
   "execution_count": 57,
   "metadata": {},
   "outputs": [
    {
     "name": "stdout",
     "output_type": "stream",
     "text": [
      "t-statistic: -2.1185638328060654\n",
      "t-obs: -2.1726925766199727\n",
      "p-value: 0.040551122872119996\n"
     ]
    }
   ],
   "source": [
    "t_stat3, p_value3 = ttest_ind(sample1, sample2, equal_var=True)\n",
    "t_obs_ind = (mean_sample1 - mean_sample2) / standard_error3\n",
    "print(\"t-statistic:\", t_stat3)\n",
    "print(\"t-obs:\", t_obs_ind)\n",
    "print(\"p-value:\", p_value3)"
   ]
  },
  {
   "cell_type": "code",
   "execution_count": 60,
   "metadata": {},
   "outputs": [
    {
     "name": "stdout",
     "output_type": "stream",
     "text": [
      "Confidence interval: (-3.0755037150942863, 1.9765037150942861)\n"
     ]
    }
   ],
   "source": [
    "dof3 = n1 + n2 - 2\n",
    "mean_d = mean_sample1 - mean_sample2\n",
    "confidence_interval = t.interval(confidence_level, dof3, \n",
    "                                       loc=mean_d, \n",
    "                                       scale=standard_error)\n",
    "\n",
    "print(\"Confidence interval:\", confidence_interval)"
   ]
  },
  {
   "cell_type": "code",
   "execution_count": 61,
   "metadata": {},
   "outputs": [
    {
     "name": "stdout",
     "output_type": "stream",
     "text": [
      "Effect size (Cohen's d): -0.678837090935459\n"
     ]
    }
   ],
   "source": [
    "effect_size3 = mean_d / pooled_std\n",
    "print(\"Effect size (Cohen's d):\", effect_size3)"
   ]
  },
  {
   "cell_type": "code",
   "execution_count": 62,
   "metadata": {},
   "outputs": [],
   "source": [
    "import matplotlib.pyplot as plt"
   ]
  },
  {
   "cell_type": "code",
   "execution_count": 70,
   "metadata": {},
   "outputs": [],
   "source": [
    "sample1_error = std_sample1 / np.sqrt(n1)\n",
    "sample2_error = std_sample2 / np.sqrt(n2)"
   ]
  },
  {
   "cell_type": "code",
   "execution_count": 74,
   "metadata": {},
   "outputs": [
    {
     "data": {
      "image/png": "[encoded data removed]",
      "text/plain": [
       "<Figure size 432x288 with 1 Axes>"
      ]
     },
     "metadata": {
      "needs_background": "light"
     },
     "output_type": "display_data"
    }
   ],
   "source": [
    "plt.bar([1, 2], [mean_sample1, mean_sample2], \n",
    "        tick_label=['Yes', 'No'], \n",
    "        color=['blue', 'orange'], \n",
    "        yerr=[sample1_error, sample2_error], capsize=2)\n",
    "plt.show()"
   ]
  }
 ],
 "metadata": {
  "kernelspec": {
   "display_name": "base",
   "language": "python",
   "name": "python3"
  },
  "language_info": {
   "codemirror_mode": {
    "name": "ipython",
    "version": 3
   },
   "file_extension": ".py",
   "mimetype": "text/x-python",
   "name": "python",
   "nbconvert_exporter": "python",
   "pygments_lexer": "ipython3",
   "version": "3.7.4"
  }
 },
 "nbformat": 4,
 "nbformat_minor": 2
}
