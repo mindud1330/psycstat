{
  "nbformat": 4,
  "nbformat_minor": 0,
  "metadata": {
    "colab": {
      "provenance": []
    },
    "kernelspec": {
      "name": "python3",
      "display_name": "Python 3"
    },
    "language_info": {
      "name": "python"
    }
  },
  "cells": [
    {
      "cell_type": "code",
      "execution_count": null,
      "metadata": {
        "id": "mek-3Zr3twce"
      },
      "outputs": [],
      "source": [
        "import pandas as pd\n",
        "\n",
        "# CSV file path\n",
        "file_path = \"/content/drive/MyDrive/data/psycstat_data_2024.csv\"\n",
        "\n",
        "# CSV file\n",
        "df = pd.read_csv(file_path)\n",
        "\n",
        "# data\n",
        "print(df)"
      ]
    },
    {
      "cell_type": "markdown",
      "source": [
        "### 1-6"
      ],
      "metadata": {
        "id": "QnE598B-8kaX"
      }
    },
    {
      "cell_type": "code",
      "source": [
        "import pandas as pd\n",
        "\n",
        "# CSV file path\n",
        "file_path = \"/content/drive/MyDrive/data/psycstat_data_2024.csv\"\n",
        "\n",
        "# CSV file\n",
        "df = pd.read_csv(file_path)\n",
        "\n",
        "# inverse\n",
        "df[\"Per5_inverse\"] = 6 - df[\"Per5\"]\n",
        "df[\"Per9_inverse\"] = 6 - df[\"Per9\"]\n",
        "df[\"Per10_inverse\"] = 6 - df[\"Per10\"]\n",
        "df[\"Per15_inverse\"] = 6 - df[\"Per15\"]\n",
        "\n",
        "# Extraversion\n",
        "ext_cols = [\"Per1\", \"Per9_inverse\", \"Per14\"]\n",
        "# Agreeableness\n",
        "agr_cols = [\"Per4\", \"Per12\", \"Per15_inverse\"]\n",
        "# Conscientiousness\n",
        "con_cols = [\"Per2\", \"Per6\", \"Per13\"]\n",
        "# Neuroticism\n",
        "neu_cols = [\"Per5_inverse\", \"Per7\", \"Per10_inverse\"]\n",
        "\n",
        "# sum data\n",
        "df['Ext_sum'] = df[ext_cols].apply(lambda row: row.sum(skipna=True), axis=1)\n",
        "df['Agr_sum'] = df[agr_cols].apply(lambda row: row.sum(skipna=True), axis=1)\n",
        "df['Con_sum'] = df[con_cols].apply(lambda row: row.sum(skipna=True), axis=1)\n",
        "df['Neu_sum'] = df[neu_cols].apply(lambda row: row.sum(skipna=True), axis=1)\n",
        "\n",
        "# mean data\n",
        "df['Ext_mean'] = df[ext_cols].apply(lambda row: row.mean(skipna=True), axis=1)\n",
        "df['Agr_mean'] = df[agr_cols].apply(lambda row: row.mean(skipna=True), axis=1)\n",
        "df['Con_mean'] = df[con_cols].apply(lambda row: row.mean(skipna=True), axis=1)\n",
        "df['Neu_mean'] = df[neu_cols].apply(lambda row: row.mean(skipna=True), axis=1)\n",
        "\n",
        "# Calculate Extraversion\n",
        "ext_avg = df['Ext_mean'].mean()\n",
        "ext_var = df['Ext_mean'].var()\n",
        "\n",
        "# Calculate Agreeableness\n",
        "agr_med = df['Agr_mean'].median()\n",
        "agr_range = df['Agr_mean'].max() - df['Agr_mean'].min()\n",
        "\n",
        "# Calculate Conscientiousness\n",
        "con_avg = df['Con_mean'].mean()\n",
        "con_sd = df['Con_mean'].std()\n",
        "\n",
        "# print result\n",
        "print(f\"1. average of Extraversion: {ext_avg}\")\n",
        "print(f\"2. variance of Extraversion: {ext_var}\")\n",
        "print(f\"3. median of Agreeableness: {agr_med}\")\n",
        "print(f\"4. range of Agreeableness: {agr_range}\")\n",
        "print(f\"5. average of Conscientiousness: {con_avg}\")\n",
        "print(f\"6. standard deviation of Conscientiousness: {con_sd}\")"
      ],
      "metadata": {
        "id": "RKuurIs7w211",
        "colab": {
          "base_uri": "https://localhost:8080/"
        },
        "outputId": "b2eb2cb1-3da1-4d31-82f7-8f83c0fb0c90"
      },
      "execution_count": null,
      "outputs": [
        {
          "output_type": "stream",
          "name": "stdout",
          "text": [
            "1. average of Extraversion: 3.0283333333333338\n",
            "2. variance of Extraversion: 0.48663037409268567\n",
            "3. median of Agreeableness: 4.0\n",
            "4. range of Agreeableness: 3.0\n",
            "5. average of Conscientiousness: 3.9283333333333332\n",
            "6. standard deviation of Conscientiousness: 0.6426820372509451\n"
          ]
        }
      ]
    },
    {
      "cell_type": "markdown",
      "source": [
        "### 7-9"
      ],
      "metadata": {
        "id": "h5gFhWRG8f-E"
      }
    },
    {
      "cell_type": "code",
      "source": [
        "import pandas as pd\n",
        "\n",
        "# CSV file path\n",
        "file_path = \"/content/drive/MyDrive/data/psycstat_data_2024.csv\"\n",
        "\n",
        "# CSV file\n",
        "df = pd.read_csv(file_path)\n",
        "\n",
        "# inverse\n",
        "df[\"Per5_inverse\"] = 6 - df[\"Per5\"]\n",
        "df[\"Per10_inverse\"] = 6 - df[\"Per10\"]\n",
        "\n",
        "# Neuroticism\n",
        "neu_cols = [\"Per5_inverse\", \"Per7\", \"Per10_inverse\"]\n",
        "\n",
        "# sum data\n",
        "df['Neu_sum'] = df[neu_cols].apply(lambda row: row.sum(skipna=True), axis=1)\n",
        "\n",
        "# mean data\n",
        "df['Neu_mean'] = df[neu_cols].apply(lambda row: row.mean(skipna=True), axis=1)\n",
        "\n",
        "# data sampling\n",
        "sample_df = df['Neu_mean'].sample(n=10)\n",
        "\n",
        "# change data to string\n",
        "sample_data = ','.join(map(str, sample_df))\n",
        "\n",
        "# average and standard deviation\n",
        "neu_sample_avg = sample_df.mean()\n",
        "neu_sample_st = sample_df.std()\n",
        "\n",
        "# print data\n",
        "print(\"7. sample data is\")\n",
        "print(sample_data)\n",
        "print()\n",
        "\n",
        "# print result\n",
        "print(f\"8. average of sample data: {neu_sample_avg}\")\n",
        "print(f\"9. standard deviation of sample data: {neu_sample_st}\")"
      ],
      "metadata": {
        "colab": {
          "base_uri": "https://localhost:8080/"
        },
        "id": "acLki7FAxp_U",
        "outputId": "6727c24e-d994-4450-a35b-41e7eaf9c954"
      },
      "execution_count": null,
      "outputs": [
        {
          "output_type": "stream",
          "name": "stdout",
          "text": [
            "7. sample data is\n",
            "4.0,4.0,3.0,4.0,2.6666666666666665,4.0,3.3333333333333335,3.3333333333333335,3.0,3.3333333333333335\n",
            "\n",
            "8. average of sample data: 3.4666666666666663\n",
            "9. standard deviation of sample data: 0.5018484351393873\n"
          ]
        }
      ]
    }
  ]
}