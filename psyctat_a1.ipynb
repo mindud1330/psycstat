{
  "nbformat": 4,
  "nbformat_minor": 0,
  "metadata": {
    "colab": {
      "provenance": []
    },
    "kernelspec": {
      "name": "python3",
      "display_name": "Python 3"
    },
    "language_info": {
      "name": "python"
    }
  },
  "cells": [
    {
      "cell_type": "code",
      "execution_count": null,
      "metadata": {
        "id": "mek-3Zr3twce"
      },
      "outputs": [],
      "source": [
        "import pandas as pd\n",
        "\n",
        "# CSV file path\n",
        "file_path = \"/content/drive/MyDrive/data/psycstat_data_2024.csv\"\n",
        "\n",
        "# CSV file\n",
        "df = pd.read_csv(file_path)\n",
        "\n",
        "# data\n",
        "print(df)"
      ]
    },
    {
      "cell_type": "markdown",
      "source": [
        "### 1-6"
      ],
      "metadata": {
        "id": "QnE598B-8kaX"
      }
    },
    {
      "cell_type": "code",
      "source": [
        "import pandas as pd\n",
        "\n",
        "# CSV file path\n",
        "file_path = \"/content/drive/MyDrive/data/psycstat_data_2024.csv\"\n",
        "\n",
        "# CSV file\n",
        "df = pd.read_csv(file_path)\n",
        "\n",
        "# inverse\n",
        "df[\"Per5_inverse\"] = 6 - df[\"Per5\"]\n",
        "df[\"Per9_inverse\"] = 6 - df[\"Per9\"]\n",
        "df[\"Per10_inverse\"] = 6 - df[\"Per10\"]\n",
        "df[\"Per15_inverse\"] = 6 - df[\"Per15\"]\n",
        "\n",
        "# Extraversion\n",
        "ext_cols = [\"Per1\", \"Per9_inverse\", \"Per14\"]\n",
        "# Agreeableness\n",
        "agr_cols = [\"Per4\", \"Per12\", \"Per15_inverse\"]\n",
        "# Conscientiousness\n",
        "con_cols = [\"Per2\", \"Per6\", \"Per13\"]\n",
        "# Neuroticism\n",
        "neu_cols = [\"Per5_inverse\", \"Per7\", \"Per10_inverse\"]\n",
        "\n",
        "# sum data\n",
        "df['Ext_sum'] = df[ext_cols].apply(lambda row: row.sum(skipna=True), axis=1)\n",
        "df['Agr_sum'] = df[agr_cols].apply(lambda row: row.sum(skipna=True), axis=1)\n",
        "df['Con_sum'] = df[con_cols].apply(lambda row: row.sum(skipna=True), axis=1)\n",
        "df['Neu_sum'] = df[neu_cols].apply(lambda row: row.sum(skipna=True), axis=1)\n",
        "\n",
        "# Calculate Extraversion\n",
        "ext_avg = df['Ext_sum'].mean()\n",
        "ext_var = df['Ext_sum'].var()\n",
        "\n",
        "# Calculate Agreeableness\n",
        "agr_med = df['Agr_sum'].median()\n",
        "agr_range = df['Agr_sum'].max() - df['Agr_sum'].min()\n",
        "\n",
        "# Calculate Conscientiousness\n",
        "con_avg = df['Con_sum'].mean()\n",
        "con_sd = df['Con_sum'].std()\n",
        "\n",
        "# print result\n",
        "print(f\"1. average of Extraversion: {ext_avg}\")\n",
        "print(f\"2. variance of Extraversion: {ext_var}\")\n",
        "print(f\"3. median of Agreeableness: {agr_med}\")\n",
        "print(f\"4. range of Agreeableness: {agr_range}\")\n",
        "print(f\"5. average of Conscientiousness: {con_avg}\")\n",
        "print(f\"6. standard deviation of Conscientiousness: {con_sd}\")"
      ],
      "metadata": {
        "colab": {
          "base_uri": "https://localhost:8080/"
        },
        "id": "RKuurIs7w211",
        "outputId": "6789831a-9ed4-44e9-d599-630fc6cbfd3a"
      },
      "execution_count": null,
      "outputs": [
        {
          "output_type": "stream",
          "name": "stdout",
          "text": [
            "1. average of Extraversion: 9.085\n",
            "2. variance of Extraversion: 4.3796733668341705\n",
            "3. median of Agreeableness: 12.0\n",
            "4. range of Agreeableness: 9\n",
            "5. average of Conscientiousness: 11.785\n",
            "6. standard deviation of Conscientiousness: 1.928046111752835\n"
          ]
        }
      ]
    },
    {
      "cell_type": "markdown",
      "source": [
        "### 7-9"
      ],
      "metadata": {
        "id": "h5gFhWRG8f-E"
      }
    },
    {
      "cell_type": "code",
      "source": [
        "import pandas as pd\n",
        "\n",
        "# CSV file path\n",
        "file_path = \"/content/drive/MyDrive/data/psycstat_data_2024.csv\"\n",
        "\n",
        "# CSV file\n",
        "df = pd.read_csv(file_path)\n",
        "\n",
        "# inverse\n",
        "df[\"Per5_inverse\"] = 6 - df[\"Per5\"]\n",
        "df[\"Per10_inverse\"] = 6 - df[\"Per10\"]\n",
        "\n",
        "# Neuroticism\n",
        "neu_cols = [\"Per5_inverse\", \"Per7\", \"Per10_inverse\"]\n",
        "\n",
        "# sum data\n",
        "df['Neu_sum'] = df[neu_cols].apply(lambda row: row.sum(), axis=1)\n",
        "\n",
        "# data sampling\n",
        "sample_df = df['Neu_sum'].sample(n=10)\n",
        "\n",
        "# change data to string\n",
        "sample_data = ','.join(map(str, sample_df))\n",
        "\n",
        "# average and standard deviation\n",
        "neu_sample_avg = sample_df.mean()\n",
        "neu_sample_st = sample_df.std()\n",
        "\n",
        "# print data\n",
        "print(\"7. sample data is\")\n",
        "print(sample_data)\n",
        "print()\n",
        "\n",
        "# print result\n",
        "print(f\"8. average of sample data: {neu_sample_avg}\")\n",
        "print(f\"9. standard deviation of sample data: {neu_sample_st}\")"
      ],
      "metadata": {
        "colab": {
          "base_uri": "https://localhost:8080/"
        },
        "id": "acLki7FAxp_U",
        "outputId": "e57e7d31-ba37-4fd3-d0a3-6d176632b37a"
      },
      "execution_count": null,
      "outputs": [
        {
          "output_type": "stream",
          "name": "stdout",
          "text": [
            "7. sample data is\n",
            "14,14,10,8,8,12,12,14,10,14\n",
            "\n",
            "8. average of sample data: 11.6\n",
            "9. standard deviation of sample data: 2.4585451886114367\n"
          ]
        }
      ]
    }
  ]
}